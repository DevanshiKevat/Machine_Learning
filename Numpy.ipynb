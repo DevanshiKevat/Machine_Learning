{
 "cells": [
  {
   "cell_type": "code",
   "execution_count": 2,
   "id": "30d3fb51-8e3a-4988-96dd-d1fcfdf7ff56",
   "metadata": {},
   "outputs": [],
   "source": [
    "import numpy as np"
   ]
  },
  {
   "cell_type": "code",
   "execution_count": 3,
   "id": "dba11a98-8fc1-45f7-9cc1-becb42a1fb59",
   "metadata": {},
   "outputs": [
    {
     "name": "stdout",
     "output_type": "stream",
     "text": [
      "[1 2 3 4 5]\n"
     ]
    },
    {
     "data": {
      "text/plain": [
       "array([1, 2, 3, 4, 5])"
      ]
     },
     "execution_count": 3,
     "metadata": {},
     "output_type": "execute_result"
    }
   ],
   "source": [
    "arr1 = np.array([1,2,3,4,5,])\n",
    "print(arr1)\n",
    "arr1"
   ]
  },
  {
   "cell_type": "code",
   "execution_count": 4,
   "id": "37739d3f-d19b-4297-b77c-4427373a05d4",
   "metadata": {},
   "outputs": [
    {
     "data": {
      "text/plain": [
       "numpy.ndarray"
      ]
     },
     "execution_count": 4,
     "metadata": {},
     "output_type": "execute_result"
    }
   ],
   "source": [
    "type(arr1)"
   ]
  },
  {
   "cell_type": "code",
   "execution_count": 5,
   "id": "4586371e-02db-46fe-a582-b8d16b7483b7",
   "metadata": {},
   "outputs": [
    {
     "data": {
      "text/plain": [
       "1"
      ]
     },
     "execution_count": 5,
     "metadata": {},
     "output_type": "execute_result"
    }
   ],
   "source": [
    "arr1.ndim"
   ]
  },
  {
   "cell_type": "code",
   "execution_count": 8,
   "id": "83dde4ea-22d1-4756-911e-6bcf91863c65",
   "metadata": {},
   "outputs": [
    {
     "name": "stdout",
     "output_type": "stream",
     "text": [
      "[[1 2 3 4]\n",
      " [5 6 7 8]]\n"
     ]
    }
   ],
   "source": [
    "arr2 = np.array([[1,2,3,4],[5,6,7,8]])\n",
    "print(arr2)"
   ]
  },
  {
   "cell_type": "code",
   "execution_count": 9,
   "id": "27a3f62c-2f37-4bd7-a06f-4db57480d3a8",
   "metadata": {},
   "outputs": [
    {
     "data": {
      "text/plain": [
       "2"
      ]
     },
     "execution_count": 9,
     "metadata": {},
     "output_type": "execute_result"
    }
   ],
   "source": [
    "arr2.ndim"
   ]
  },
  {
   "cell_type": "code",
   "execution_count": 10,
   "id": "7f47f633-364d-41cd-85cd-1babd105441c",
   "metadata": {},
   "outputs": [
    {
     "data": {
      "text/plain": [
       "8"
      ]
     },
     "execution_count": 10,
     "metadata": {},
     "output_type": "execute_result"
    }
   ],
   "source": [
    "arr2.size"
   ]
  },
  {
   "cell_type": "code",
   "execution_count": 12,
   "id": "bfd7fa9a-bcb4-48d0-aa0c-4ed4ae1cc6c6",
   "metadata": {},
   "outputs": [
    {
     "data": {
      "text/plain": [
       "(2, 4)"
      ]
     },
     "execution_count": 12,
     "metadata": {},
     "output_type": "execute_result"
    }
   ],
   "source": [
    "arr2.shape"
   ]
  },
  {
   "cell_type": "code",
   "execution_count": 13,
   "id": "62afcecd-c00e-48b8-a163-36a892b28262",
   "metadata": {},
   "outputs": [
    {
     "data": {
      "text/plain": [
       "dtype('int32')"
      ]
     },
     "execution_count": 13,
     "metadata": {},
     "output_type": "execute_result"
    }
   ],
   "source": [
    "arr2.dtype"
   ]
  },
  {
   "cell_type": "code",
   "execution_count": 15,
   "id": "e54c56bf-4e27-4923-8dea-2599fa5af046",
   "metadata": {},
   "outputs": [
    {
     "data": {
      "text/plain": [
       "array([[[1, 1, 1],\n",
       "        [1, 1, 1],\n",
       "        [1, 1, 1]]])"
      ]
     },
     "execution_count": 15,
     "metadata": {},
     "output_type": "execute_result"
    }
   ],
   "source": [
    "#1's matrix\n",
    "np.array([[[1,1,1], [1,1,1],[1,1,1]]])"
   ]
  },
  {
   "cell_type": "code",
   "execution_count": 21,
   "id": "62fab276-d694-4e97-bfff-1d146401e5fc",
   "metadata": {},
   "outputs": [
    {
     "name": "stdout",
     "output_type": "stream",
     "text": [
      "[1. 1. 1. 1. 1.]\n"
     ]
    },
    {
     "data": {
      "text/plain": [
       "dtype('float64')"
      ]
     },
     "execution_count": 21,
     "metadata": {},
     "output_type": "execute_result"
    }
   ],
   "source": [
    "a1 = np.ones(5)\n",
    "print(a1)\n",
    "type(a1)\n",
    "a1.dtype"
   ]
  },
  {
   "cell_type": "code",
   "execution_count": 23,
   "id": "f0ef43d9-f7a9-47bf-a258-b3eec0f7acf3",
   "metadata": {},
   "outputs": [
    {
     "name": "stdout",
     "output_type": "stream",
     "text": [
      "[[1. 1. 1. 1. 1.]\n",
      " [1. 1. 1. 1. 1.]\n",
      " [1. 1. 1. 1. 1.]\n",
      " [1. 1. 1. 1. 1.]\n",
      " [1. 1. 1. 1. 1.]]\n"
     ]
    }
   ],
   "source": [
    "a2 = np.ones((5,5))\n",
    "print(a2)"
   ]
  },
  {
   "cell_type": "code",
   "execution_count": 34,
   "id": "f5706aa6-eaa0-4f4a-9e80-352bc23a62bd",
   "metadata": {},
   "outputs": [
    {
     "data": {
      "text/plain": [
       "array([[1, 1, 1, 1, 1],\n",
       "       [1, 1, 1, 1, 1],\n",
       "       [1, 1, 1, 1, 1],\n",
       "       [1, 1, 1, 1, 1]])"
      ]
     },
     "execution_count": 34,
     "metadata": {},
     "output_type": "execute_result"
    }
   ],
   "source": [
    "np.ones((4,5) , dtype = int)"
   ]
  },
  {
   "cell_type": "code",
   "execution_count": 31,
   "id": "62fe09ff-ec74-4723-a26a-6dd4908777a5",
   "metadata": {},
   "outputs": [
    {
     "name": "stdout",
     "output_type": "stream",
     "text": [
      "[['' '' '' '' '' '']\n",
      " ['' '' '' '' '' '']\n",
      " ['' '' '' '' '' '']\n",
      " ['' '' '' '' '' '']]\n"
     ]
    }
   ],
   "source": [
    "a3 = np.zeros((4,6), dtype = str)\n",
    "print(a3)"
   ]
  },
  {
   "cell_type": "code",
   "execution_count": 35,
   "id": "9f1f0672-3701-46d3-bf98-ab149e9c02d5",
   "metadata": {},
   "outputs": [
    {
     "name": "stdout",
     "output_type": "stream",
     "text": [
      "[[False False False False False False]\n",
      " [False False False False False False]\n",
      " [False False False False False False]\n",
      " [False False False False False False]]\n"
     ]
    }
   ],
   "source": [
    "a3 = np.zeros((4,6), dtype = bool)\n",
    "print(a3)"
   ]
  },
  {
   "cell_type": "code",
   "execution_count": 52,
   "id": "8d88b1e5-7402-4815-85fc-1e93238dfc26",
   "metadata": {},
   "outputs": [
    {
     "name": "stdout",
     "output_type": "stream",
     "text": [
      "[[7.74860419e-304]\n",
      " [7.74860419e-304]]\n"
     ]
    }
   ],
   "source": [
    "a4 = np.empty((2,1))\n",
    "print(a4)"
   ]
  },
  {
   "cell_type": "code",
   "execution_count": 54,
   "id": "b8d0645c-7cfb-4a89-bd4a-ddd26cfc0c34",
   "metadata": {},
   "outputs": [
    {
     "data": {
      "text/plain": [
       "array([1, 3, 5, 7, 9])"
      ]
     },
     "execution_count": 54,
     "metadata": {},
     "output_type": "execute_result"
    }
   ],
   "source": [
    "np.arange(1,10,2)"
   ]
  },
  {
   "cell_type": "code",
   "execution_count": 61,
   "id": "b3ed2d4b-0b9c-4f73-b9dc-cf8c97fd7afa",
   "metadata": {},
   "outputs": [
    {
     "name": "stdin",
     "output_type": "stream",
     "text": [
      "Enter Your Email devanshikevat7041@gmail.com\n",
      "Enter Your Password DCs@2023\n",
      "Enter 1 for WAD, anyother for ML 3\n"
     ]
    },
    {
     "name": "stdout",
     "output_type": "stream",
     "text": [
      "<Response [200]>\n",
      "<Response [200]>\n",
      "<Response [200]>\n",
      "<Response [200]>\n",
      "<Response [200]>\n",
      "<Response [200]>\n",
      "<Response [200]>\n",
      "<Response [200]>\n",
      "<Response [200]>\n",
      "<Response [200]>\n",
      "<Response [200]>\n",
      "<Response [200]>\n",
      "Over\n",
      "83.4319526627219\n"
     ]
    },
    {
     "data": {
      "image/png": "[encoded data removed]",
      "text/plain": [
       "<Figure size 900x500 with 1 Axes>"
      ]
     },
     "metadata": {},
     "output_type": "display_data"
    }
   ],
   "source": [
    "#!pip install pip install beautifulsoup4\n",
    "#!pip install pip install requests\n",
    "\n",
    "import requests as rs\n",
    "from bs4 import BeautifulSoup as bs\n",
    "import pandas as pd\n",
    "import matplotlib.pyplot as plt\n",
    "\n",
    "#######################################################################################################################################################################\n",
    "static_data={\"batch\":\"65002f422a409862cbbc94ce\",\"course\":\"63df53dd88aba9c0e5c84b6f\",\"division\":\"650034634b7fd7731ed772be\",\n",
    "                          \"semester\":\"650034634b7fd7731ed772c3\"}\n",
    "\n",
    "subjects = {\"ml\":{\"semesterSubject\":\"650034634b7fd7731ed772c4\",\"subject\":\"63df53d388aba9c0e5c84b62\"},\n",
    "             \"an\":{\"semesterSubject\":\"650034634b7fd7731ed772c5\",\"subject\":\"63df53d388aba9c0e5c84b64\"},\n",
    "            \"ai\":{\"semesterSubject\":\"650034634b7fd7731ed772c8\",\"subject\":\"63df53d288aba9c0e5c84b5a\"},\n",
    "            \"da\":{\"semesterSubject\":\"650034634b7fd7731ed772c9\",\"subject\":\"63df53d288aba9c0e5c84b5c\"},\n",
    "             \"java\":{\"semesterSubject\": \"650034634b7fd7731ed772ca\",\"subject\": \"63df53d388aba9c0e5c84b5e\"},\n",
    "             \"os\":{\"semesterSubject\": \"650034634b7fd7731ed772cb\",\"subject\": \"63df53d388aba9c0e5c84b60\"},\n",
    "           \"wad\":{\"semesterSubject\": \"650034634b7fd7731ed772c6\",\"subject\":\"63df53d388aba9c0e5c84b66\"},\n",
    "           \"ml_p\":{\"semesterSubject\":\"65dc2d63a7e811c54c1f9463\",\"subject\":\"65dc2d2ea7e811c54c1f9451\"},\n",
    "           \"os_p\":{\"semesterSubject\":\"65dc2d72a7e811c54c1f9477\",\"subject\":\"65dc2ce7a7e811c54c1f9449\"},\n",
    "           \"da_p\":{\"semesterSubject\":\"65dc2d7da7e811c54c1f9489\",\"subject\":\"65dc2d03a7e811c54c1f944d\"},\n",
    "           \"wad_p\":{\"semesterSubject\":\"65dc2d85a7e811c54c1f949b\",\"subject\":\"65dc2cbea7e811c54c1f9445\"},\n",
    "           \"java_p\":{\"semesterSubject\":\"65dc2d8ea7e811c54c1f94ad\",\"subject\":\"65dc2c9da7e811c54c1f943f\"}}\n",
    "\n",
    "\n",
    "payload = {}\n",
    "\n",
    "for key, value in subjects.items():\n",
    "    payload[key] = {**static_data, **value}\n",
    "\n",
    "\n",
    "#######################################################################################################################################################################\n",
    "\n",
    "login_url = \"https://attendence-system-1910.vercel.app/api/auth/login\"\n",
    "login_data = {\"email\":\"send2biswojit@gmail.com\",\"password\":\"DCs@2023\"}\n",
    "att_d_url = \"https://attendence-system-1910.vercel.app/api/students/attendances/details\"\n",
    "\n",
    "\n",
    "try:\n",
    "    login_data[\"email\"]=input(\"Enter Your Email\")\n",
    "    login_data[\"password\"]=input(\"Enter Your Password\")\n",
    "    track=input(\"Enter 1 for WAD, anyother for ML\")\n",
    "except:\n",
    "    track=0\n",
    "\n",
    "#######################################################################################################################################################################\n",
    "\n",
    "data={}\n",
    "with rs.Session() as s:\n",
    "    response = s.post(login_url, data=login_data)\n",
    "    if(response.status_code == 400):\n",
    "        print(\"Sorry Login Failed\")\n",
    "    else:\n",
    "        set_cookie_header = response.headers.get('Set-Cookie')\n",
    "        token_start_index = set_cookie_header.find('token=') + len('token=')\n",
    "        token_end_index = set_cookie_header.find(';', token_start_index)\n",
    "        if token_end_index == -1:\n",
    "            token = set_cookie_header[token_start_index:]\n",
    "        else:\n",
    "            token = set_cookie_header[token_start_index:token_end_index]\n",
    "\n",
    "        header = {\"Authorization\": f\"Bearer {token}\"}\n",
    "\n",
    "        for key in payload.keys():\n",
    "            att_data=s.post(att_d_url,json=payload[key],headers=header)\n",
    "            data[key]=att_data.json()\n",
    "            print(att_data)\n",
    "        print(\"Over\")\n",
    "    s.close()\n",
    "data=pd.DataFrame(data)\n",
    "\n",
    "#######################################################################################################################################################################\n",
    "if(response.status_code != 400):\n",
    "    plt.figure(figsize=[9,5])\n",
    "    bars=plt.bar(data.columns,data.loc['percentage'],color='green')\n",
    "    if(track==1):\n",
    "        exclude=data.loc[\"total\"]['ml']\n",
    "    else:\n",
    "        exclude=data.loc[\"total\"]['wad']\n",
    "\n",
    "    agg_percent=(data.loc[\"totalPresent\"].sum()/(data.loc['total'].sum()-exclude))*100\n",
    "    print(agg_percent)\n",
    "    plt.xticks(rotation=45)\n",
    "    plt.grid(True,alpha=0.3)\n",
    "    for bar in bars:\n",
    "        height = bar.get_height()\n",
    "        plt.text(bar.get_x() + bar.get_width()/2, height, f'{height:.2f}%', ha='center', va='bottom')\n",
    "    plt.text(0.5, 1.05, login_data['email'], ha='center', va='center', transform=plt.gca().transAxes, fontsize=14, fontweight='bold')\n",
    "    plt.text(0.5, -0.20, f\"Aggregate Percentage = {round(agg_percent,2)}\", ha='center', va='center', transform=plt.gca().transAxes, fontsize=14, fontweight='bold')\n",
    "    plt.show()\n",
    "\n",
    "#######################################################################################################################################################################"
   ]
  },
  {
   "cell_type": "code",
   "execution_count": 60,
   "id": "d8ab2b06-3995-45d6-a4b9-08c981de342e",
   "metadata": {},
   "outputs": [
    {
     "name": "stdout",
     "output_type": "stream",
     "text": [
      "24.0\n"
     ]
    }
   ],
   "source": [
    "print(exclude)"
   ]
  },
  {
   "cell_type": "code",
   "execution_count": null,
   "id": "763edfab-58d9-4c21-b38a-19c31a8031e7",
   "metadata": {},
   "outputs": [],
   "source": []
  },
  {
   "cell_type": "code",
   "execution_count": null,
   "id": "a6202312-82c1-488c-a392-e5c2f93d7788",
   "metadata": {},
   "outputs": [],
   "source": [
    "from socket import *\n",
    "serverName = 'hostname'\n",
    "serverPort = 12000\n",
    "clientSocket = socket(AF_INET, SOCK_DGRAM)\n",
    "message = input('input lower case sentence')\n",
    "clientSocket.sendto(message.encode(), (serverName, serverPort))\n",
    "modifiedMessage, serverAddress = clientSocket.recvfrom(2048)\n",
    "print(modifiedMessage.decode())\n",
    "clientSocket.close()"
   ]
  },
  {
   "cell_type": "code",
   "execution_count": null,
   "id": "a47b77fc-7235-4d48-a5ed-07ca2251c03c",
   "metadata": {},
   "outputs": [
    {
     "name": "stdout",
     "output_type": "stream",
     "text": [
      "The Server is ready to receive\n"
     ]
    }
   ],
   "source": [
    "from socket import *\n",
    "# serverName = 'hostname'\n",
    "serverPort = 12000\n",
    "serverSocket = socket(AF_INET, SOCK_DGRAM)\n",
    "serverSocket.bind(('',serverPort))\n",
    "print('The Server is ready to receive') \n",
    "while True:\n",
    "    message, clientAddress = serverSocket.recvfrom(2048)\n",
    "    modifiedMessage = message.decode().upper()\n",
    "    serverScoket.sendto(modifiedMessage.encode(), clientAddress)"
   ]
  }
 ],
 "metadata": {
  "kernelspec": {
   "display_name": "Python 3 (ipykernel)",
   "language": "python",
   "name": "python3"
  },
  "language_info": {
   "codemirror_mode": {
    "name": "ipython",
    "version": 3
   },
   "file_extension": ".py",
   "mimetype": "text/x-python",
   "name": "python",
   "nbconvert_exporter": "python",
   "pygments_lexer": "ipython3",
   "version": "3.11.5"
  }
 },
 "nbformat": 4,
 "nbformat_minor": 5
}
