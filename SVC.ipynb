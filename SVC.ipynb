{
 "cells": [
  {
   "cell_type": "code",
   "execution_count": 47,
   "id": "b237e0f6-ce29-4c0e-a0be-7f11f6072128",
   "metadata": {},
   "outputs": [],
   "source": [
    "import pandas as pd\n",
    "import numpy as np\n",
    "from sklearn.datasets import load_iris\n",
    "from sklearn.model_selection import GridSearchCV,train_test_split,KFold,cross_val_score\n",
    "from sklearn.svm import SVC\n",
    "from sklearn.metrics import accuracy_score,classification_report,confusion_matrix\n",
    "import seaborn as sns\n",
    "import matplotlib.pyplot as plt"
   ]
  },
  {
   "cell_type": "code",
   "execution_count": 2,
   "id": "f08835a0-6ad7-4aba-a4b5-3841b777f28c",
   "metadata": {},
   "outputs": [],
   "source": [
    "iris = load_iris()"
   ]
  },
  {
   "cell_type": "code",
   "execution_count": 3,
   "id": "d86bd13e-6fca-45a9-9d3b-da6cdd37b172",
   "metadata": {},
   "outputs": [],
   "source": [
    "X = iris.data\n",
    "y = iris.target"
   ]
  },
  {
   "cell_type": "code",
   "execution_count": 4,
   "id": "ef23f1cd-380e-40a0-ae16-97f9e5b84db9",
   "metadata": {},
   "outputs": [],
   "source": [
    "X_train,X_test,y_train,y_test = train_test_split(X,y,test_size=0.3,random_state=42)"
   ]
  },
  {
   "cell_type": "code",
   "execution_count": 28,
   "id": "6446b5cb-7884-4ca0-b0ad-eb381e6ad6e8",
   "metadata": {},
   "outputs": [
    {
     "data": {
      "text/plain": [
       "{'C': 1, 'kernel': 'linear'}"
      ]
     },
     "execution_count": 28,
     "metadata": {},
     "output_type": "execute_result"
    }
   ],
   "source": [
    "params = {'C': [0.1, 1, 10],\n",
    "    'kernel': ['linear', 'rbf', 'poly']}\n"
   ]
  },
  {
   "cell_type": "code",
   "execution_count": 29,
   "id": "3f14f97e-f6de-47e6-a798-8a1d8e0846c7",
   "metadata": {},
   "outputs": [],
   "source": [
    "svc = SVC(kernel='rbf')"
   ]
  },
  {
   "cell_type": "code",
   "execution_count": 30,
   "id": "30d3fadc-ba9d-46dc-a5d5-68a1cb480407",
   "metadata": {},
   "outputs": [
    {
     "data": {
      "text/plain": [
       "{'C': 1, 'kernel': 'linear'}"
      ]
     },
     "execution_count": 30,
     "metadata": {},
     "output_type": "execute_result"
    }
   ],
   "source": [
    "grid = GridSearchCV(svc,params, cv=2)\n",
    "\n",
    "grid.fit(X_train, y_train)\n",
    "\n",
    "grid.best_params_"
   ]
  },
  {
   "cell_type": "code",
   "execution_count": 31,
   "id": "7faf9909-3fec-40ed-b095-3f6c7887163a",
   "metadata": {},
   "outputs": [],
   "source": [
    "svc = SVC(kernel='poly')"
   ]
  },
  {
   "cell_type": "code",
   "execution_count": 32,
   "id": "11a2f011-ca5f-4e2a-b5de-9294794220c0",
   "metadata": {},
   "outputs": [
    {
     "data": {
      "text/plain": [
       "{'C': 1, 'kernel': 'linear'}"
      ]
     },
     "execution_count": 32,
     "metadata": {},
     "output_type": "execute_result"
    }
   ],
   "source": [
    "grid = GridSearchCV(svc,params, cv=2)\n",
    "\n",
    "grid.fit(X_train, y_train)\n",
    "\n",
    "grid.best_params_"
   ]
  },
  {
   "cell_type": "code",
   "execution_count": 33,
   "id": "d6c4e85b-181c-4240-b220-aaf596d53d75",
   "metadata": {},
   "outputs": [],
   "source": [
    "svc = SVC(kernel='linear')"
   ]
  },
  {
   "cell_type": "code",
   "execution_count": 34,
   "id": "5f8f9ec1-540e-4f41-b117-4df82ab9e027",
   "metadata": {},
   "outputs": [
    {
     "data": {
      "text/plain": [
       "{'C': 1, 'kernel': 'linear'}"
      ]
     },
     "execution_count": 34,
     "metadata": {},
     "output_type": "execute_result"
    }
   ],
   "source": [
    "grid = GridSearchCV(svc,params, cv=2)\n",
    "\n",
    "grid.fit(X_train, y_train)\n",
    "\n",
    "grid.best_params_"
   ]
  },
  {
   "cell_type": "code",
   "execution_count": null,
   "id": "61944c86-6bc5-4874-8f94-891e895848d9",
   "metadata": {},
   "outputs": [],
   "source": []
  },
  {
   "cell_type": "code",
   "execution_count": null,
   "id": "e1ea6894-0b41-4bcc-bd97-893f2abbb1b6",
   "metadata": {},
   "outputs": [],
   "source": []
  },
  {
   "cell_type": "code",
   "execution_count": null,
   "id": "33162d75-a1f2-4b72-b2a4-2865ed3e7e06",
   "metadata": {},
   "outputs": [],
   "source": []
  },
  {
   "cell_type": "code",
   "execution_count": 35,
   "id": "ce542683-ae3b-4487-b162-ba1d6f77b56e",
   "metadata": {},
   "outputs": [
    {
     "data": {
      "text/html": [
       "<div>\n",
       "<style scoped>\n",
       "    .dataframe tbody tr th:only-of-type {\n",
       "        vertical-align: middle;\n",
       "    }\n",
       "\n",
       "    .dataframe tbody tr th {\n",
       "        vertical-align: top;\n",
       "    }\n",
       "\n",
       "    .dataframe thead th {\n",
       "        text-align: right;\n",
       "    }\n",
       "</style>\n",
       "<table border=\"1\" class=\"dataframe\">\n",
       "  <thead>\n",
       "    <tr style=\"text-align: right;\">\n",
       "      <th></th>\n",
       "      <th>mean_fit_time</th>\n",
       "      <th>std_fit_time</th>\n",
       "      <th>mean_score_time</th>\n",
       "      <th>std_score_time</th>\n",
       "      <th>param_C</th>\n",
       "      <th>param_kernel</th>\n",
       "      <th>params</th>\n",
       "      <th>split0_test_score</th>\n",
       "      <th>split1_test_score</th>\n",
       "      <th>mean_test_score</th>\n",
       "      <th>std_test_score</th>\n",
       "      <th>rank_test_score</th>\n",
       "    </tr>\n",
       "  </thead>\n",
       "  <tbody>\n",
       "    <tr>\n",
       "      <th>0</th>\n",
       "      <td>0.001594</td>\n",
       "      <td>0.000418</td>\n",
       "      <td>0.002506</td>\n",
       "      <td>0.000513</td>\n",
       "      <td>0.1</td>\n",
       "      <td>linear</td>\n",
       "      <td>{'C': 0.1, 'kernel': 'linear'}</td>\n",
       "      <td>0.924528</td>\n",
       "      <td>0.942308</td>\n",
       "      <td>0.933418</td>\n",
       "      <td>0.008890</td>\n",
       "      <td>6</td>\n",
       "    </tr>\n",
       "    <tr>\n",
       "      <th>1</th>\n",
       "      <td>0.002116</td>\n",
       "      <td>0.000128</td>\n",
       "      <td>0.001668</td>\n",
       "      <td>0.000336</td>\n",
       "      <td>0.1</td>\n",
       "      <td>rbf</td>\n",
       "      <td>{'C': 0.1, 'kernel': 'rbf'}</td>\n",
       "      <td>0.641509</td>\n",
       "      <td>0.692308</td>\n",
       "      <td>0.666909</td>\n",
       "      <td>0.025399</td>\n",
       "      <td>9</td>\n",
       "    </tr>\n",
       "    <tr>\n",
       "      <th>2</th>\n",
       "      <td>0.002974</td>\n",
       "      <td>0.000008</td>\n",
       "      <td>0.002018</td>\n",
       "      <td>0.001017</td>\n",
       "      <td>0.1</td>\n",
       "      <td>poly</td>\n",
       "      <td>{'C': 0.1, 'kernel': 'poly'}</td>\n",
       "      <td>0.943396</td>\n",
       "      <td>0.961538</td>\n",
       "      <td>0.952467</td>\n",
       "      <td>0.009071</td>\n",
       "      <td>3</td>\n",
       "    </tr>\n",
       "    <tr>\n",
       "      <th>3</th>\n",
       "      <td>0.003055</td>\n",
       "      <td>0.000523</td>\n",
       "      <td>0.001633</td>\n",
       "      <td>0.000351</td>\n",
       "      <td>1</td>\n",
       "      <td>linear</td>\n",
       "      <td>{'C': 1, 'kernel': 'linear'}</td>\n",
       "      <td>0.962264</td>\n",
       "      <td>0.961538</td>\n",
       "      <td>0.961901</td>\n",
       "      <td>0.000363</td>\n",
       "      <td>1</td>\n",
       "    </tr>\n",
       "    <tr>\n",
       "      <th>4</th>\n",
       "      <td>0.002164</td>\n",
       "      <td>0.000244</td>\n",
       "      <td>0.002748</td>\n",
       "      <td>0.000749</td>\n",
       "      <td>1</td>\n",
       "      <td>rbf</td>\n",
       "      <td>{'C': 1, 'kernel': 'rbf'}</td>\n",
       "      <td>0.886792</td>\n",
       "      <td>0.942308</td>\n",
       "      <td>0.914550</td>\n",
       "      <td>0.027758</td>\n",
       "      <td>7</td>\n",
       "    </tr>\n",
       "    <tr>\n",
       "      <th>5</th>\n",
       "      <td>0.002183</td>\n",
       "      <td>0.000812</td>\n",
       "      <td>0.001080</td>\n",
       "      <td>0.000042</td>\n",
       "      <td>1</td>\n",
       "      <td>poly</td>\n",
       "      <td>{'C': 1, 'kernel': 'poly'}</td>\n",
       "      <td>0.962264</td>\n",
       "      <td>0.961538</td>\n",
       "      <td>0.961901</td>\n",
       "      <td>0.000363</td>\n",
       "      <td>1</td>\n",
       "    </tr>\n",
       "    <tr>\n",
       "      <th>6</th>\n",
       "      <td>0.001573</td>\n",
       "      <td>0.000540</td>\n",
       "      <td>0.001954</td>\n",
       "      <td>0.000488</td>\n",
       "      <td>10</td>\n",
       "      <td>linear</td>\n",
       "      <td>{'C': 10, 'kernel': 'linear'}</td>\n",
       "      <td>0.886792</td>\n",
       "      <td>0.942308</td>\n",
       "      <td>0.914550</td>\n",
       "      <td>0.027758</td>\n",
       "      <td>7</td>\n",
       "    </tr>\n",
       "    <tr>\n",
       "      <th>7</th>\n",
       "      <td>0.001808</td>\n",
       "      <td>0.000656</td>\n",
       "      <td>0.001162</td>\n",
       "      <td>0.000139</td>\n",
       "      <td>10</td>\n",
       "      <td>rbf</td>\n",
       "      <td>{'C': 10, 'kernel': 'rbf'}</td>\n",
       "      <td>0.943396</td>\n",
       "      <td>0.961538</td>\n",
       "      <td>0.952467</td>\n",
       "      <td>0.009071</td>\n",
       "      <td>3</td>\n",
       "    </tr>\n",
       "    <tr>\n",
       "      <th>8</th>\n",
       "      <td>0.002014</td>\n",
       "      <td>0.000482</td>\n",
       "      <td>0.001812</td>\n",
       "      <td>0.000530</td>\n",
       "      <td>10</td>\n",
       "      <td>poly</td>\n",
       "      <td>{'C': 10, 'kernel': 'poly'}</td>\n",
       "      <td>0.886792</td>\n",
       "      <td>0.980769</td>\n",
       "      <td>0.933781</td>\n",
       "      <td>0.046988</td>\n",
       "      <td>5</td>\n",
       "    </tr>\n",
       "  </tbody>\n",
       "</table>\n",
       "</div>"
      ],
      "text/plain": [
       "   mean_fit_time  std_fit_time  mean_score_time  std_score_time param_C  \\\n",
       "0       0.001594      0.000418         0.002506        0.000513     0.1   \n",
       "1       0.002116      0.000128         0.001668        0.000336     0.1   \n",
       "2       0.002974      0.000008         0.002018        0.001017     0.1   \n",
       "3       0.003055      0.000523         0.001633        0.000351       1   \n",
       "4       0.002164      0.000244         0.002748        0.000749       1   \n",
       "5       0.002183      0.000812         0.001080        0.000042       1   \n",
       "6       0.001573      0.000540         0.001954        0.000488      10   \n",
       "7       0.001808      0.000656         0.001162        0.000139      10   \n",
       "8       0.002014      0.000482         0.001812        0.000530      10   \n",
       "\n",
       "  param_kernel                          params  split0_test_score  \\\n",
       "0       linear  {'C': 0.1, 'kernel': 'linear'}           0.924528   \n",
       "1          rbf     {'C': 0.1, 'kernel': 'rbf'}           0.641509   \n",
       "2         poly    {'C': 0.1, 'kernel': 'poly'}           0.943396   \n",
       "3       linear    {'C': 1, 'kernel': 'linear'}           0.962264   \n",
       "4          rbf       {'C': 1, 'kernel': 'rbf'}           0.886792   \n",
       "5         poly      {'C': 1, 'kernel': 'poly'}           0.962264   \n",
       "6       linear   {'C': 10, 'kernel': 'linear'}           0.886792   \n",
       "7          rbf      {'C': 10, 'kernel': 'rbf'}           0.943396   \n",
       "8         poly     {'C': 10, 'kernel': 'poly'}           0.886792   \n",
       "\n",
       "   split1_test_score  mean_test_score  std_test_score  rank_test_score  \n",
       "0           0.942308         0.933418        0.008890                6  \n",
       "1           0.692308         0.666909        0.025399                9  \n",
       "2           0.961538         0.952467        0.009071                3  \n",
       "3           0.961538         0.961901        0.000363                1  \n",
       "4           0.942308         0.914550        0.027758                7  \n",
       "5           0.961538         0.961901        0.000363                1  \n",
       "6           0.942308         0.914550        0.027758                7  \n",
       "7           0.961538         0.952467        0.009071                3  \n",
       "8           0.980769         0.933781        0.046988                5  "
      ]
     },
     "execution_count": 35,
     "metadata": {},
     "output_type": "execute_result"
    }
   ],
   "source": [
    "pd.DataFrame(grid.cv_results_)"
   ]
  },
  {
   "cell_type": "code",
   "execution_count": 36,
   "id": "c373c8a4-b86c-4fe0-b6cb-bebaad0093cd",
   "metadata": {},
   "outputs": [
    {
     "data": {
      "text/plain": [
       "array([1, 0, 2, 1, 1, 0, 1, 2, 1, 1, 2, 0, 0, 0, 0, 1, 2, 1, 1, 2, 0, 2,\n",
       "       0, 2, 2, 2, 2, 2, 0, 0, 0, 0, 1, 0, 0, 2, 1, 0, 0, 0, 2, 1, 1, 0,\n",
       "       0])"
      ]
     },
     "execution_count": 36,
     "metadata": {},
     "output_type": "execute_result"
    }
   ],
   "source": [
    "predict = grid.predict(X_test)\n",
    "predict"
   ]
  },
  {
   "cell_type": "code",
   "execution_count": 37,
   "id": "4306b9d9-0227-4e8a-b30b-b0cf9feb9d54",
   "metadata": {},
   "outputs": [
    {
     "name": "stdout",
     "output_type": "stream",
     "text": [
      "Accuracy: 1.0\n"
     ]
    }
   ],
   "source": [
    "accuracy = accuracy_score(y_test,predict)\n",
    "print(\"Accuracy:\", accuracy)"
   ]
  },
  {
   "cell_type": "code",
   "execution_count": 38,
   "id": "99a87006-543e-4a7f-8d58-57f6e6ff9fd3",
   "metadata": {},
   "outputs": [
    {
     "name": "stdout",
     "output_type": "stream",
     "text": [
      "              precision    recall  f1-score   support\n",
      "\n",
      "           0       1.00      1.00      1.00        19\n",
      "           1       1.00      1.00      1.00        13\n",
      "           2       1.00      1.00      1.00        13\n",
      "\n",
      "    accuracy                           1.00        45\n",
      "   macro avg       1.00      1.00      1.00        45\n",
      "weighted avg       1.00      1.00      1.00        45\n",
      "\n"
     ]
    }
   ],
   "source": [
    "cr = classification_report(y_test,predict)\n",
    "print(cr)"
   ]
  },
  {
   "cell_type": "code",
   "execution_count": 24,
   "id": "fab1733d-82bd-4f92-bb58-395e6e146f67",
   "metadata": {},
   "outputs": [
    {
     "name": "stdout",
     "output_type": "stream",
     "text": [
      "[[19  0  0]\n",
      " [ 0 13  0]\n",
      " [ 0  0 13]]\n"
     ]
    }
   ],
   "source": [
    "cm = confusion_matrix(y_test,predict)\n",
    "print(cm)"
   ]
  },
  {
   "cell_type": "code",
   "execution_count": 39,
   "id": "065e73ae-ec08-4c0d-ad7e-01d8a267b1d4",
   "metadata": {},
   "outputs": [
    {
     "data": {
      "text/plain": [
       "<Axes: >"
      ]
     },
     "execution_count": 39,
     "metadata": {},
     "output_type": "execute_result"
    },
    {
     "data": {
      "image/png": "[encoded data removed]",
      "text/plain": [
       "<Figure size 640x480 with 2 Axes>"
      ]
     },
     "metadata": {},
     "output_type": "display_data"
    }
   ],
   "source": [
    "sns.heatmap(confusion_matrix(y_test,predict))"
   ]
  },
  {
   "cell_type": "code",
   "execution_count": 40,
   "id": "ee5573b3-1478-4400-a900-6e980647d7f1",
   "metadata": {},
   "outputs": [],
   "source": [
    "kf = KFold(n_splits=5, shuffle = True ,random_state=42)"
   ]
  },
  {
   "cell_type": "code",
   "execution_count": 48,
   "id": "1c5eae79-4696-4c96-a522-25cd0fcb4039",
   "metadata": {},
   "outputs": [
    {
     "name": "stdout",
     "output_type": "stream",
     "text": [
      "[1.         1.         0.96666667 0.93333333 0.96666667]\n",
      "0.9733333333333334\n"
     ]
    }
   ],
   "source": [
    "cv_score = cross_val_score(svc, X,y,cv = kf)\n",
    "print(cv_score)\n",
    "print(np.mean(cv_score))"
   ]
  },
  {
   "cell_type": "code",
   "execution_count": null,
   "id": "d01f2823-df0a-4f1c-9deb-90ca27cedc46",
   "metadata": {},
   "outputs": [],
   "source": []
  }
 ],
 "metadata": {
  "kernelspec": {
   "display_name": "Python 3 (ipykernel)",
   "language": "python",
   "name": "python3"
  },
  "language_info": {
   "codemirror_mode": {
    "name": "ipython",
    "version": 3
   },
   "file_extension": ".py",
   "mimetype": "text/x-python",
   "name": "python",
   "nbconvert_exporter": "python",
   "pygments_lexer": "ipython3",
   "version": "3.11.5"
  }
 },
 "nbformat": 4,
 "nbformat_minor": 5
}
